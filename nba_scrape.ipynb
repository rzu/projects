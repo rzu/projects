{
 "cells": [
  {
   "cell_type": "code",
   "execution_count": 1,
   "metadata": {},
   "outputs": [
    {
     "name": "stderr",
     "output_type": "stream",
     "text": [
      "/Users/romanzubarev/miniconda3/envs/nba/lib/python3.7/site-packages/psycopg2/__init__.py:144: UserWarning: The psycopg2 wheel package will be renamed from release 2.8; in order to keep installing from binary please use \"pip install psycopg2-binary\" instead. For details see: <http://initd.org/psycopg/docs/install.html#binary-install-from-pypi>.\n",
      "  \"\"\")\n"
     ]
    }
   ],
   "source": [
    "from bs4 import BeautifulSoup\n",
    "import urllib.request as ul2\n",
    "import re, time, random, os, traceback\n",
    "import pandas as pd\n",
    "from datetime import datetime"
   ]
  },
  {
   "cell_type": "code",
   "execution_count": 2,
   "metadata": {},
   "outputs": [],
   "source": [
    "teams = ['TOR','MIL','PHI','DET','IND','BOS','ORL','CHO','MIA','WAS','BRK','NYK','ATL','CHI','CLE','LAC','DEN','OKC','GSW','LAL','MEM','POR','DAL','NOP','SAC','HOU','SAS','MIN','UTA','PHO']\n",
    "years = range(2013,datetime.now().year+1)"
   ]
  },
  {
   "cell_type": "code",
   "execution_count": 3,
   "metadata": {},
   "outputs": [],
   "source": [
    "def fetch_html():\n",
    "    header  = None\n",
    "    log     = []\n",
    "    for y in years:\n",
    "        for t in teams:\n",
    "            proceed = True\n",
    "            filepath = 'html/'+str(y)+'_'+t+'.txt'\n",
    "            if not os.path.isfile(filepath):\n",
    "                target_url = 'https://www.basketball-reference.com/teams/'+t+'/'+str(y)+'/gamelog/'\n",
    "                try:\n",
    "                    response = ul2.urlopen(target_url).read()\n",
    "                except Exception:\n",
    "                    log.append('generic exception: ' + traceback.format_exc())\n",
    "                    proceed = False\n",
    "                if proceed:\n",
    "                    page = BeautifulSoup(response)\n",
    "                    table = page.find('table', class_='row_summable')\n",
    "                    if header is None:\n",
    "                        header = get_header(table)\n",
    "                    with open(filepath, 'w') as file:\n",
    "                        file.write(str(table))\n",
    "                time.sleep(random.randint(4,6))\n",
    "    return(log, header)"
   ]
  },
  {
   "cell_type": "code",
   "execution_count": 4,
   "metadata": {},
   "outputs": [],
   "source": [
    "def get_header(table):\n",
    "    src_header = table.find_all('tr')[1]\n",
    "    target_header = list()\n",
    "    for i in src_header.find_all('th'):\n",
    "        target_header.append(i.attrs['aria-label'])\n",
    "    target_header[3] = 'Home Court'\n",
    "    del target_header[24]\n",
    "    return(target_header[1:])"
   ]
  },
  {
   "cell_type": "code",
   "execution_count": 24,
   "metadata": {},
   "outputs": [],
   "source": [
    "def get_data(table, team, year):\n",
    "    data = list()\n",
    "    for i in table.findAll(\"tr\", id=re.compile(\"^tgl_basic.\")):\n",
    "        row = list()\n",
    "        for n in i.find_all('td'):\n",
    "            row.append(n.string)\n",
    "        row.append(team)\n",
    "        row.append(year)\n",
    "        del row[23]\n",
    "        data.append(row)\n",
    "        \n",
    "    df = pd.DataFrame(data, columns=header)\n",
    "    df['Home Court'] = df['Home Court'].map(lambda x: 0 if x == '@' else 1)\n",
    "    df['W/L'] = df['W/L'].map(lambda x: 0 if x == 'L' else 1)\n",
    "    return(df)"
   ]
  },
  {
   "cell_type": "code",
   "execution_count": 25,
   "metadata": {},
   "outputs": [],
   "source": [
    "def process_html():\n",
    "    complete = None\n",
    "    for y in years:\n",
    "        for t in teams:\n",
    "            with open('html/'+str(y)+'_'+t+'.txt', 'r') as file:\n",
    "                table = BeautifulSoup(file.read())\n",
    "            data = get_data(table, t, y)\n",
    "            if complete is None:\n",
    "                complete = pd.DataFrame(columns=data.columns)\n",
    "            complete = complete.append(data, ignore_index=True)\n",
    "    return(complete)"
   ]
  },
  {
   "cell_type": "code",
   "execution_count": 73,
   "metadata": {},
   "outputs": [],
   "source": [
    "# initial scraping pipeline\n",
    "log, header = fetch_html()"
   ]
  },
  {
   "cell_type": "code",
   "execution_count": 13,
   "metadata": {},
   "outputs": [],
   "source": [
    "header = pd.read_csv('header.csv', header=0, quotechar='\\'').columns"
   ]
  },
  {
   "cell_type": "code",
   "execution_count": 14,
   "metadata": {},
   "outputs": [
    {
     "data": {
      "text/plain": [
       "Index(['Season Game', 'Date', 'Home Court', 'Opponent', 'W/L', 'Points',\n",
       "       'Opponent Points', 'Field Goals', 'Field Goal Attempts',\n",
       "       'Field Goal Percentage', '3-Point Field Goals',\n",
       "       '3-Point Field Goal Attempts', '3-Point Field Goal Percentage',\n",
       "       'Free Throws', 'Free Throw Attempts', 'Free Throw Percentage',\n",
       "       'Offensive Rebounds', 'Total Rebounds', 'Assists', 'Steals', 'Blocks',\n",
       "       'Turnovers', 'Personal Fouls', 'Opponent Field Goals',\n",
       "       'Opponent Field Goal Attempts', 'Opponent Field Goal Percentage',\n",
       "       'Opponent 3-Point Field Goals', 'Opponent 3-Point Field Goal Attempts',\n",
       "       'Opponent 3-Point Field Goal Percentage', 'Opponent Free Throws',\n",
       "       'Opponent Free Throw Attempts', 'Opponent Free Throw Percentage',\n",
       "       'Opponent Offensive Rebounds', 'Opponent Total Rebounds',\n",
       "       'Opponent Assists', 'Opponent Steals', 'Opponent Blocks',\n",
       "       'Opponent Turnovers', 'Opponent Personal Fouls', 'Team', 'Year'],\n",
       "      dtype='object')"
      ]
     },
     "execution_count": 14,
     "metadata": {},
     "output_type": "execute_result"
    }
   ],
   "source": [
    "header"
   ]
  },
  {
   "cell_type": "code",
   "execution_count": 26,
   "metadata": {},
   "outputs": [],
   "source": [
    "df = process_html()"
   ]
  },
  {
   "cell_type": "code",
   "execution_count": 29,
   "metadata": {},
   "outputs": [
    {
     "data": {
      "text/html": [
       "<div>\n",
       "<style scoped>\n",
       "    .dataframe tbody tr th:only-of-type {\n",
       "        vertical-align: middle;\n",
       "    }\n",
       "\n",
       "    .dataframe tbody tr th {\n",
       "        vertical-align: top;\n",
       "    }\n",
       "\n",
       "    .dataframe thead th {\n",
       "        text-align: right;\n",
       "    }\n",
       "</style>\n",
       "<table border=\"1\" class=\"dataframe\">\n",
       "  <thead>\n",
       "    <tr style=\"text-align: right;\">\n",
       "      <th></th>\n",
       "      <th>Season Game</th>\n",
       "      <th>Date</th>\n",
       "      <th>Home Court</th>\n",
       "      <th>Opponent</th>\n",
       "      <th>W/L</th>\n",
       "      <th>Points</th>\n",
       "      <th>Opponent Points</th>\n",
       "      <th>Field Goals</th>\n",
       "      <th>Field Goal Attempts</th>\n",
       "      <th>Field Goal Percentage</th>\n",
       "      <th>...</th>\n",
       "      <th>Opponent Free Throw Percentage</th>\n",
       "      <th>Opponent Offensive Rebounds</th>\n",
       "      <th>Opponent Total Rebounds</th>\n",
       "      <th>Opponent Assists</th>\n",
       "      <th>Opponent Steals</th>\n",
       "      <th>Opponent Blocks</th>\n",
       "      <th>Opponent Turnovers</th>\n",
       "      <th>Opponent Personal Fouls</th>\n",
       "      <th>Team</th>\n",
       "      <th>Year</th>\n",
       "    </tr>\n",
       "  </thead>\n",
       "  <tbody>\n",
       "    <tr>\n",
       "      <th>0</th>\n",
       "      <td>1</td>\n",
       "      <td>2012-10-31</td>\n",
       "      <td>1</td>\n",
       "      <td>IND</td>\n",
       "      <td>0</td>\n",
       "      <td>88</td>\n",
       "      <td>90</td>\n",
       "      <td>33</td>\n",
       "      <td>91</td>\n",
       "      <td>.363</td>\n",
       "      <td>...</td>\n",
       "      <td>.688</td>\n",
       "      <td>9</td>\n",
       "      <td>46</td>\n",
       "      <td>22</td>\n",
       "      <td>3</td>\n",
       "      <td>10</td>\n",
       "      <td>18</td>\n",
       "      <td>16</td>\n",
       "      <td>TOR</td>\n",
       "      <td>2013</td>\n",
       "    </tr>\n",
       "    <tr>\n",
       "      <th>1</th>\n",
       "      <td>2</td>\n",
       "      <td>2012-11-03</td>\n",
       "      <td>0</td>\n",
       "      <td>BRK</td>\n",
       "      <td>0</td>\n",
       "      <td>100</td>\n",
       "      <td>107</td>\n",
       "      <td>37</td>\n",
       "      <td>82</td>\n",
       "      <td>.451</td>\n",
       "      <td>...</td>\n",
       "      <td>.730</td>\n",
       "      <td>9</td>\n",
       "      <td>41</td>\n",
       "      <td>20</td>\n",
       "      <td>6</td>\n",
       "      <td>5</td>\n",
       "      <td>17</td>\n",
       "      <td>19</td>\n",
       "      <td>TOR</td>\n",
       "      <td>2013</td>\n",
       "    </tr>\n",
       "    <tr>\n",
       "      <th>2</th>\n",
       "      <td>3</td>\n",
       "      <td>2012-11-04</td>\n",
       "      <td>1</td>\n",
       "      <td>MIN</td>\n",
       "      <td>1</td>\n",
       "      <td>105</td>\n",
       "      <td>86</td>\n",
       "      <td>40</td>\n",
       "      <td>90</td>\n",
       "      <td>.444</td>\n",
       "      <td>...</td>\n",
       "      <td>.710</td>\n",
       "      <td>8</td>\n",
       "      <td>36</td>\n",
       "      <td>18</td>\n",
       "      <td>8</td>\n",
       "      <td>8</td>\n",
       "      <td>24</td>\n",
       "      <td>17</td>\n",
       "      <td>TOR</td>\n",
       "      <td>2013</td>\n",
       "    </tr>\n",
       "    <tr>\n",
       "      <th>3</th>\n",
       "      <td>4</td>\n",
       "      <td>2012-11-06</td>\n",
       "      <td>0</td>\n",
       "      <td>OKC</td>\n",
       "      <td>0</td>\n",
       "      <td>88</td>\n",
       "      <td>108</td>\n",
       "      <td>30</td>\n",
       "      <td>84</td>\n",
       "      <td>.357</td>\n",
       "      <td>...</td>\n",
       "      <td>.853</td>\n",
       "      <td>7</td>\n",
       "      <td>46</td>\n",
       "      <td>24</td>\n",
       "      <td>10</td>\n",
       "      <td>9</td>\n",
       "      <td>17</td>\n",
       "      <td>22</td>\n",
       "      <td>TOR</td>\n",
       "      <td>2013</td>\n",
       "    </tr>\n",
       "    <tr>\n",
       "      <th>4</th>\n",
       "      <td>5</td>\n",
       "      <td>2012-11-07</td>\n",
       "      <td>0</td>\n",
       "      <td>DAL</td>\n",
       "      <td>0</td>\n",
       "      <td>104</td>\n",
       "      <td>109</td>\n",
       "      <td>36</td>\n",
       "      <td>81</td>\n",
       "      <td>.444</td>\n",
       "      <td>...</td>\n",
       "      <td>.657</td>\n",
       "      <td>16</td>\n",
       "      <td>47</td>\n",
       "      <td>21</td>\n",
       "      <td>4</td>\n",
       "      <td>6</td>\n",
       "      <td>11</td>\n",
       "      <td>23</td>\n",
       "      <td>TOR</td>\n",
       "      <td>2013</td>\n",
       "    </tr>\n",
       "  </tbody>\n",
       "</table>\n",
       "<p>5 rows × 41 columns</p>\n",
       "</div>"
      ],
      "text/plain": [
       "  Season Game        Date Home Court Opponent W/L Points Opponent Points  \\\n",
       "0           1  2012-10-31          1      IND   0     88              90   \n",
       "1           2  2012-11-03          0      BRK   0    100             107   \n",
       "2           3  2012-11-04          1      MIN   1    105              86   \n",
       "3           4  2012-11-06          0      OKC   0     88             108   \n",
       "4           5  2012-11-07          0      DAL   0    104             109   \n",
       "\n",
       "  Field Goals Field Goal Attempts Field Goal Percentage  ...   \\\n",
       "0          33                  91                  .363  ...    \n",
       "1          37                  82                  .451  ...    \n",
       "2          40                  90                  .444  ...    \n",
       "3          30                  84                  .357  ...    \n",
       "4          36                  81                  .444  ...    \n",
       "\n",
       "  Opponent Free Throw Percentage Opponent Offensive Rebounds  \\\n",
       "0                           .688                           9   \n",
       "1                           .730                           9   \n",
       "2                           .710                           8   \n",
       "3                           .853                           7   \n",
       "4                           .657                          16   \n",
       "\n",
       "  Opponent Total Rebounds Opponent Assists Opponent Steals Opponent Blocks  \\\n",
       "0                      46               22               3              10   \n",
       "1                      41               20               6               5   \n",
       "2                      36               18               8               8   \n",
       "3                      46               24              10               9   \n",
       "4                      47               21               4               6   \n",
       "\n",
       "  Opponent Turnovers Opponent Personal Fouls Team  Year  \n",
       "0                 18                      16  TOR  2013  \n",
       "1                 17                      19  TOR  2013  \n",
       "2                 24                      17  TOR  2013  \n",
       "3                 17                      22  TOR  2013  \n",
       "4                 11                      23  TOR  2013  \n",
       "\n",
       "[5 rows x 41 columns]"
      ]
     },
     "execution_count": 29,
     "metadata": {},
     "output_type": "execute_result"
    }
   ],
   "source": [
    "df.head()"
   ]
  },
  {
   "cell_type": "code",
   "execution_count": 28,
   "metadata": {},
   "outputs": [],
   "source": [
    "df.to_csv('all_games_2013_2018.csv', index=False)"
   ]
  },
  {
   "cell_type": "code",
   "execution_count": 22,
   "metadata": {},
   "outputs": [],
   "source": [
    "from custom_functions import CustomFunctions"
   ]
  },
  {
   "cell_type": "code",
   "execution_count": null,
   "metadata": {},
   "outputs": [],
   "source": [
    "cf = CustomFunctions()\n",
    "cf.dbconnect()"
   ]
  },
  {
   "cell_type": "code",
   "execution_count": null,
   "metadata": {},
   "outputs": [],
   "source": []
  }
 ],
 "metadata": {
  "kernelspec": {
   "display_name": "Python 3.7 (nba)",
   "language": "python",
   "name": "nba"
  },
  "language_info": {
   "codemirror_mode": {
    "name": "ipython",
    "version": 3
   },
   "file_extension": ".py",
   "mimetype": "text/x-python",
   "name": "python",
   "nbconvert_exporter": "python",
   "pygments_lexer": "ipython3",
   "version": "3.7.1"
  }
 },
 "nbformat": 4,
 "nbformat_minor": 2
}
