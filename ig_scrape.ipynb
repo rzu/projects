{
 "cells": [
  {
   "cell_type": "code",
   "execution_count": 2,
   "metadata": {},
   "outputs": [],
   "source": [
    "from selenium import webdriver\n",
    "from selenium.webdriver.common.keys import Keys\n",
    "from bs4 import BeautifulSoup\n",
    "from IPython.display import display\n",
    "import pandas as pd\n",
    "import time, json, random, re, datetime\n",
    "import configparser as cp \n",
    "\n",
    "class InstagramScraper():\n",
    "    def __init__(self):\n",
    "        self.config = cp.ConfigParser()\n",
    "        self.config.read('config.cfg')\n",
    "        \n",
    "        # Dummy account credentials\n",
    "        self.username = self.config.get('core', 'username')\n",
    "        self.password = self.config.get('core', 'password')\n",
    "        \n",
    "        # Change to whatever driver is preferred\n",
    "        self.driver = webdriver.Chrome() \n",
    "        \n",
    "        self.today = datetime.datetime.now().strftime(\"%Y-%m-%d\")\n",
    "        \n",
    "    def parse_json(self, page):\n",
    "        # Create a bs4 object from page source\n",
    "        soup = BeautifulSoup(page)\n",
    "        \n",
    "        # Grab interesting JSON only\n",
    "        json_main = soup.find('script', string = re.compile(\"^window._sharedData\") ).string.replace('window._sharedData = ', '')[:-1]\n",
    "        \n",
    "        # Parse the JSON into a dictionary\n",
    "        parsed = json.loads(json_main)\n",
    "        \n",
    "        return(parsed)\n",
    "    \n",
    "    def remove_emojis(self, string):\n",
    "        # Remove unwanted unicode emojies and special characters by forcing latin-1\n",
    "        return(string.encode('latin-1', 'ignore').decode('utf-8'))\n",
    "        \n",
    "    def do_login(self):\n",
    "        # Load page\n",
    "        self.driver.get(\"https://www.instagram.com/accounts/login/\")\n",
    "        \n",
    "        # Wait a bit for the page to load\n",
    "        time.sleep(2)\n",
    "\n",
    "        # Input the credentials\n",
    "        self.driver.find_element_by_xpath(\"//input[@name='username']\").send_keys(self.username)\n",
    "        self.driver.find_element_by_xpath(\"//input[@name='password']\").send_keys(self.password)\n",
    "\n",
    "        # Send\n",
    "        self.driver.find_element_by_xpath(\"//button[@type='submit']\").click()\n",
    "        \n",
    "        # Wait a bit for the page to load after logging in\n",
    "        time.sleep(2)\n",
    "        \n",
    "        return(True)\n",
    "        \n",
    "    # Scrape account metadata, image lists and followers\n",
    "    def scrape_accounts(self, accounts = list(), do_profiles = True, do_posts = False, do_followers = False):\n",
    "        # Prepare empty results lists\n",
    "        profiles  = list()\n",
    "        posts     = list()\n",
    "        followers = list()\n",
    "        \n",
    "        # Cycle through target list and get metadata\n",
    "        for one in accounts:\n",
    "            self.driver.get('https://www.instagram.com/{0}/'.format(one))\n",
    "            \n",
    "            # check if the request returned 200\n",
    "            if 'dialog-404' in self.driver.page_source:\n",
    "                continue\n",
    "            \n",
    "            # wait a bit while the page loads\n",
    "            time.sleep(2)\n",
    "            \n",
    "            # Get the profile metadata\n",
    "            metadata = self.get_account_metadata(self.driver.page_source)\n",
    "            profiles.append(metadata)\n",
    "            \n",
    "            if not metadata['is_private'] and do_posts:\n",
    "                posts += self.get_posts(metadata)\n",
    "            if not metadata['is_private'] and do_followers:\n",
    "                followers.append(self.get_followers(metadata))\n",
    "            \n",
    "            # Randomized delay between requests\n",
    "            time.sleep(random.randint(1,3))\n",
    "        \n",
    "        # Write this to a .csv file\n",
    "        if do_profiles:\n",
    "            display(pd.DataFrame(profiles))\n",
    "            pd.DataFrame(profiles).to_csv('account_metadata/{0}.csv'.format(self.today.replace('-', '')), index=False)\n",
    "        if not metadata['is_private'] and do_posts:\n",
    "            df = pd.DataFrame(posts)\n",
    "            df.drop_duplicates(inplace=True)\n",
    "            display(df)\n",
    "            df.to_csv('account_posts/{0}.csv'.format(self.today.replace('-', '')), index=False)\n",
    "        if not metadata['is_private'] and do_followers:\n",
    "            pd.DataFrame(followers).to_csv('account_followers/{0}.csv'.format(self.today.replace('-', '')), index=False)\n",
    "            \n",
    "    # Parse account metadata from html/json\n",
    "    def get_account_metadata(self, page):\n",
    "        # Parse the page JSON into a dictionary\n",
    "        parsed = self.parse_json(page)\n",
    "        \n",
    "        metadata = {\n",
    "            'date'      : self.today,\n",
    "            'username'  : parsed['entry_data']['ProfilePage'][0]['graphql']['user']['username'],\n",
    "            'full_name' : self.remove_emojis(parsed['entry_data']['ProfilePage'][0]['graphql']['user']['full_name']),\n",
    "            'is_private': 1 if parsed['entry_data']['ProfilePage'][0]['graphql']['user']['is_private'] else 0,\n",
    "            'is_business_account': 1 if parsed['entry_data']['ProfilePage'][0]['graphql']['user']['is_business_account'] else 0,\n",
    "            'external_url': parsed['entry_data']['ProfilePage'][0]['graphql']['user']['external_url'],\n",
    "            'biography' : self.remove_emojis(parsed['entry_data']['ProfilePage'][0]['graphql']['user']['biography'].replace('\\n', ' ')),\n",
    "            'business_category_name': parsed['entry_data']['ProfilePage'][0]['graphql']['user']['business_category_name'],\n",
    "            'business_email': parsed['entry_data']['ProfilePage'][0]['graphql']['user']['business_email'],\n",
    "            'following' : parsed['entry_data']['ProfilePage'][0]['graphql']['user']['edge_follow']['count'],\n",
    "            'followers' : parsed['entry_data']['ProfilePage'][0]['graphql']['user']['edge_followed_by']['count'],\n",
    "            'posts'     : parsed['entry_data']['ProfilePage'][0]['graphql']['user']['edge_owner_to_timeline_media']['count']\n",
    "        }\n",
    "        \n",
    "        return(metadata)\n",
    "        \n",
    "    # Load all images through infinite scroll and grab each image's link and basic information\n",
    "    def get_posts(self, metadata):\n",
    "        # Since Instagram hides posts from the DOM tree as they disappear from view during scroll, we have to iterate over screens\n",
    "        # The number of iterations = (total number of posts - the initial 12 images) / by the average of 10 images per scroll\n",
    "        n = int((metadata['posts']-12)/10)\n",
    "        posts = list()\n",
    "        n = 2\n",
    "        for i in range(n):\n",
    "            # Scroll to the bottom of the page\n",
    "            self.driver.find_element_by_tag_name('body').send_keys(Keys.END)\n",
    "            \n",
    "            # Find all posts visible in the DOM tree\n",
    "            post_urls = self.driver.find_elements_by_xpath(\"//a[starts-with(@href,'/p/')]\")\n",
    "            \n",
    "            for url in post_urls:\n",
    "                # Add to list\n",
    "                posts.append({\n",
    "                    'date'    : self.today,\n",
    "                    'username': metadata['username'],\n",
    "                    'post_url': url.get_attribute('href')\n",
    "                })\n",
    "            \n",
    "            # Randomized delay between requests\n",
    "            time.sleep(random.randint(1,3))\n",
    "        \n",
    "        return(posts)\n",
    "    \n",
    "    def get_post_metadata(self, posts):\n",
    "        user_posts = list()\n",
    "\n",
    "        for one in posts:\n",
    "            self.driver.get(one['post_url'])\n",
    "            \n",
    "            # Parse the page JSON into a dictionary\n",
    "            parsed = self.parse_json(self.driver.page_source)\n",
    "\n",
    "            metadata = {\n",
    "                'date'      : self.today,\n",
    "                'username'  : one['username'],\n",
    "                'post_url'  : one['post_url'],\n",
    "                'auto_generated_desc': parsed['entry_data']['PostPage'][0]['graphql']['shortcode_media']['accessibility_caption'],\n",
    "                'is_video'  : 1 if parsed['entry_data']['PostPage'][0]['graphql']['shortcode_media']['is_video'] else 0,\n",
    "                'caption'   : self.remove_emojis(parsed['entry_data']['PostPage'][0]['graphql']['shortcode_media']['edge_media_to_caption']['edges'][0]['node']['text']),\n",
    "                'likes'     : parsed['entry_data']['PostPage'][0]['graphql']['shortcode_media']['edge_media_preview_like']['count'],\n",
    "                'comments'  : parsed['entry_data']['PostPage'][0]['graphql']['shortcode_media']['edge_media_to_comment']['count'],\n",
    "                'location'  : parsed['entry_data']['PostPage'][0]['graphql']['shortcode_media']['location']['name']\n",
    "                # can add tagged users here, if needed\n",
    "            }\n",
    "            \n",
    "            user_posts.append(metadata)\n",
    "            \n",
    "            # Randomized delay between requests\n",
    "            time.sleep(random.randint(2,3))\n",
    "        \n",
    "        df = pd.DataFrame(user_posts)\n",
    "        display(df)\n",
    "        df.to_csv('account_posts/{0}.csv'.format(self.today.replace('-', '')), index=False)\n",
    "\n",
    "    # Load all followers through infinite scroll and grab their usernames\n",
    "    def get_followers(self, metadata):\n",
    "        # Find the Followers link and click it\n",
    "        self.driver.find_element_by_partial_link_text(\"follower\").click()\n",
    "        \n",
    "        # Wait a bit for the modal to fully load\n",
    "        time.sleep(3)\n",
    "        \n",
    "        # The first scroll only happens around this line, not at the bottom of the modal\n",
    "        scroll = self.driver.find_element_by_xpath(\"//*[contains(text(), 'Suggestions For You')]\")\n",
    "        scroll.location_once_scrolled_into_view\n",
    "        \n",
    "        # The number of iterations = (total number of followers - the initial 12) / by the 12 followers per scroll\n",
    "        n = int((metadata['followers']-12)/12)\n",
    "        followers = list()\n",
    "        \n",
    "        # Look inside the modal window only\n",
    "        modal = self.driver.find_element_by_xpath(\"//div[@role='dialog']\")        \n",
    "        n=2\n",
    "        for i in range(n):\n",
    "            # Then just find the last Follow button\n",
    "            last_element = modal.find_elements_by_xpath(\"//div[@role='button']\")[-1]\n",
    "            last_element.location_once_scrolled_into_view\n",
    "\n",
    "            # Delay between requests\n",
    "            time.sleep(1)\n",
    "\n",
    "        # Get all the links\n",
    "        links = modal.find_elements_by_tag_name('a')\n",
    "        lst = list()\n",
    "\n",
    "        for i in links:\n",
    "            lst.append(i.get_attribute('href'))\n",
    "\n",
    "        # Remove duplicates, as every item has two '<a>' tags (redirect link and follow button)\n",
    "        lst = list(dict.fromkeys(lst))\n",
    "\n",
    "        followers += lst\n",
    "        \n",
    "        result = {\n",
    "            'username': metadata['username'],\n",
    "            'followers': followers\n",
    "        }\n",
    "        \n",
    "        return(result)\n",
    "        \n",
    "    # Placeholder for retreiving comments\n",
    "    def get_comments(self, post):\n",
    "        pass"
   ]
  },
  {
   "cell_type": "code",
   "execution_count": 3,
   "metadata": {},
   "outputs": [
    {
     "data": {
      "text/html": [
       "<div>\n",
       "<style scoped>\n",
       "    .dataframe tbody tr th:only-of-type {\n",
       "        vertical-align: middle;\n",
       "    }\n",
       "\n",
       "    .dataframe tbody tr th {\n",
       "        vertical-align: top;\n",
       "    }\n",
       "\n",
       "    .dataframe thead th {\n",
       "        text-align: right;\n",
       "    }\n",
       "</style>\n",
       "<table border=\"1\" class=\"dataframe\">\n",
       "  <thead>\n",
       "    <tr style=\"text-align: right;\">\n",
       "      <th></th>\n",
       "      <th>biography</th>\n",
       "      <th>business_category_name</th>\n",
       "      <th>business_email</th>\n",
       "      <th>date</th>\n",
       "      <th>external_url</th>\n",
       "      <th>followers</th>\n",
       "      <th>following</th>\n",
       "      <th>full_name</th>\n",
       "      <th>is_business_account</th>\n",
       "      <th>is_private</th>\n",
       "      <th>posts</th>\n",
       "      <th>username</th>\n",
       "    </tr>\n",
       "  </thead>\n",
       "  <tbody>\n",
       "    <tr>\n",
       "      <th>0</th>\n",
       "      <td>SINGER TV Host  Booking: +40757162275  viberec...</td>\n",
       "      <td>Creators &amp; Celebrities</td>\n",
       "      <td>concertjorge@gmail.com</td>\n",
       "      <td>2018-12-14</td>\n",
       "      <td>https://youtu.be/ZWM0b6JUmeg</td>\n",
       "      <td>176900</td>\n",
       "      <td>24</td>\n",
       "      <td>JORGE</td>\n",
       "      <td>1</td>\n",
       "      <td>0</td>\n",
       "      <td>315</td>\n",
       "      <td>jorgeofficial.ro</td>\n",
       "    </tr>\n",
       "  </tbody>\n",
       "</table>\n",
       "</div>"
      ],
      "text/plain": [
       "                                           biography  business_category_name  \\\n",
       "0  SINGER TV Host  Booking: +40757162275  viberec...  Creators & Celebrities   \n",
       "\n",
       "           business_email        date                  external_url  \\\n",
       "0  concertjorge@gmail.com  2018-12-14  https://youtu.be/ZWM0b6JUmeg   \n",
       "\n",
       "   followers  following full_name  is_business_account  is_private  posts  \\\n",
       "0     176900         24     JORGE                    1           0    315   \n",
       "\n",
       "           username  \n",
       "0  jorgeofficial.ro  "
      ]
     },
     "metadata": {},
     "output_type": "display_data"
    },
    {
     "data": {
      "text/html": [
       "<div>\n",
       "<style scoped>\n",
       "    .dataframe tbody tr th:only-of-type {\n",
       "        vertical-align: middle;\n",
       "    }\n",
       "\n",
       "    .dataframe tbody tr th {\n",
       "        vertical-align: top;\n",
       "    }\n",
       "\n",
       "    .dataframe thead th {\n",
       "        text-align: right;\n",
       "    }\n",
       "</style>\n",
       "<table border=\"1\" class=\"dataframe\">\n",
       "  <thead>\n",
       "    <tr style=\"text-align: right;\">\n",
       "      <th></th>\n",
       "      <th>date</th>\n",
       "      <th>post_url</th>\n",
       "      <th>username</th>\n",
       "    </tr>\n",
       "  </thead>\n",
       "  <tbody>\n",
       "    <tr>\n",
       "      <th>0</th>\n",
       "      <td>2018-12-14</td>\n",
       "      <td>https://www.instagram.com/p/BrXNfM0FgFK/</td>\n",
       "      <td>jorgeofficial.ro</td>\n",
       "    </tr>\n",
       "    <tr>\n",
       "      <th>1</th>\n",
       "      <td>2018-12-14</td>\n",
       "      <td>https://www.instagram.com/p/BrU5JZmFlZ5/</td>\n",
       "      <td>jorgeofficial.ro</td>\n",
       "    </tr>\n",
       "    <tr>\n",
       "      <th>2</th>\n",
       "      <td>2018-12-14</td>\n",
       "      <td>https://www.instagram.com/p/BrUmeluln8L/</td>\n",
       "      <td>jorgeofficial.ro</td>\n",
       "    </tr>\n",
       "    <tr>\n",
       "      <th>3</th>\n",
       "      <td>2018-12-14</td>\n",
       "      <td>https://www.instagram.com/p/BrSqtuGF3ah/</td>\n",
       "      <td>jorgeofficial.ro</td>\n",
       "    </tr>\n",
       "    <tr>\n",
       "      <th>4</th>\n",
       "      <td>2018-12-14</td>\n",
       "      <td>https://www.instagram.com/p/BrSbBLVFLtk/</td>\n",
       "      <td>jorgeofficial.ro</td>\n",
       "    </tr>\n",
       "    <tr>\n",
       "      <th>5</th>\n",
       "      <td>2018-12-14</td>\n",
       "      <td>https://www.instagram.com/p/BrR-NEJF3ej/</td>\n",
       "      <td>jorgeofficial.ro</td>\n",
       "    </tr>\n",
       "    <tr>\n",
       "      <th>6</th>\n",
       "      <td>2018-12-14</td>\n",
       "      <td>https://www.instagram.com/p/BrQPRRYlhSL/</td>\n",
       "      <td>jorgeofficial.ro</td>\n",
       "    </tr>\n",
       "    <tr>\n",
       "      <th>7</th>\n",
       "      <td>2018-12-14</td>\n",
       "      <td>https://www.instagram.com/p/BrPOyLrFYUG/</td>\n",
       "      <td>jorgeofficial.ro</td>\n",
       "    </tr>\n",
       "    <tr>\n",
       "      <th>8</th>\n",
       "      <td>2018-12-14</td>\n",
       "      <td>https://www.instagram.com/p/BrNpcGolH0D/</td>\n",
       "      <td>jorgeofficial.ro</td>\n",
       "    </tr>\n",
       "    <tr>\n",
       "      <th>9</th>\n",
       "      <td>2018-12-14</td>\n",
       "      <td>https://www.instagram.com/p/BrMzf4OFHw7/</td>\n",
       "      <td>jorgeofficial.ro</td>\n",
       "    </tr>\n",
       "    <tr>\n",
       "      <th>10</th>\n",
       "      <td>2018-12-14</td>\n",
       "      <td>https://www.instagram.com/p/BrKXk9iF5my/</td>\n",
       "      <td>jorgeofficial.ro</td>\n",
       "    </tr>\n",
       "    <tr>\n",
       "      <th>11</th>\n",
       "      <td>2018-12-14</td>\n",
       "      <td>https://www.instagram.com/p/BrIX_zTFcC2/</td>\n",
       "      <td>jorgeofficial.ro</td>\n",
       "    </tr>\n",
       "    <tr>\n",
       "      <th>12</th>\n",
       "      <td>2018-12-14</td>\n",
       "      <td>https://www.instagram.com/p/BrHwj4eFCtW/</td>\n",
       "      <td>jorgeofficial.ro</td>\n",
       "    </tr>\n",
       "    <tr>\n",
       "      <th>13</th>\n",
       "      <td>2018-12-14</td>\n",
       "      <td>https://www.instagram.com/p/BrGCd_8F0wB/</td>\n",
       "      <td>jorgeofficial.ro</td>\n",
       "    </tr>\n",
       "    <tr>\n",
       "      <th>14</th>\n",
       "      <td>2018-12-14</td>\n",
       "      <td>https://www.instagram.com/p/BrDhFAmFjl0/</td>\n",
       "      <td>jorgeofficial.ro</td>\n",
       "    </tr>\n",
       "    <tr>\n",
       "      <th>15</th>\n",
       "      <td>2018-12-14</td>\n",
       "      <td>https://www.instagram.com/p/BrCfDQWFjRD/</td>\n",
       "      <td>jorgeofficial.ro</td>\n",
       "    </tr>\n",
       "    <tr>\n",
       "      <th>16</th>\n",
       "      <td>2018-12-14</td>\n",
       "      <td>https://www.instagram.com/p/BrAsakmlNlw/</td>\n",
       "      <td>jorgeofficial.ro</td>\n",
       "    </tr>\n",
       "    <tr>\n",
       "      <th>17</th>\n",
       "      <td>2018-12-14</td>\n",
       "      <td>https://www.instagram.com/p/Bq-tTjZF30q/</td>\n",
       "      <td>jorgeofficial.ro</td>\n",
       "    </tr>\n",
       "    <tr>\n",
       "      <th>18</th>\n",
       "      <td>2018-12-14</td>\n",
       "      <td>https://www.instagram.com/p/Bq-XIRTlNzY/</td>\n",
       "      <td>jorgeofficial.ro</td>\n",
       "    </tr>\n",
       "    <tr>\n",
       "      <th>19</th>\n",
       "      <td>2018-12-14</td>\n",
       "      <td>https://www.instagram.com/p/Bq9cDoeljcZ/</td>\n",
       "      <td>jorgeofficial.ro</td>\n",
       "    </tr>\n",
       "    <tr>\n",
       "      <th>20</th>\n",
       "      <td>2018-12-14</td>\n",
       "      <td>https://www.instagram.com/p/Bq71XGuFWkz/</td>\n",
       "      <td>jorgeofficial.ro</td>\n",
       "    </tr>\n",
       "    <tr>\n",
       "      <th>21</th>\n",
       "      <td>2018-12-14</td>\n",
       "      <td>https://www.instagram.com/p/Bq7PkKZlleL/</td>\n",
       "      <td>jorgeofficial.ro</td>\n",
       "    </tr>\n",
       "    <tr>\n",
       "      <th>22</th>\n",
       "      <td>2018-12-14</td>\n",
       "      <td>https://www.instagram.com/p/Bq4khiil7Dj/</td>\n",
       "      <td>jorgeofficial.ro</td>\n",
       "    </tr>\n",
       "    <tr>\n",
       "      <th>23</th>\n",
       "      <td>2018-12-14</td>\n",
       "      <td>https://www.instagram.com/p/Bq209ENFcqb/</td>\n",
       "      <td>jorgeofficial.ro</td>\n",
       "    </tr>\n",
       "    <tr>\n",
       "      <th>48</th>\n",
       "      <td>2018-12-14</td>\n",
       "      <td>https://www.instagram.com/p/Bq1r4JhFiAc/</td>\n",
       "      <td>jorgeofficial.ro</td>\n",
       "    </tr>\n",
       "    <tr>\n",
       "      <th>49</th>\n",
       "      <td>2018-12-14</td>\n",
       "      <td>https://www.instagram.com/p/Bq0L-YPjUK2/</td>\n",
       "      <td>jorgeofficial.ro</td>\n",
       "    </tr>\n",
       "    <tr>\n",
       "      <th>50</th>\n",
       "      <td>2018-12-14</td>\n",
       "      <td>https://www.instagram.com/p/BqzIapelm3J/</td>\n",
       "      <td>jorgeofficial.ro</td>\n",
       "    </tr>\n",
       "    <tr>\n",
       "      <th>51</th>\n",
       "      <td>2018-12-14</td>\n",
       "      <td>https://www.instagram.com/p/Bqxe8RhFrJA/</td>\n",
       "      <td>jorgeofficial.ro</td>\n",
       "    </tr>\n",
       "    <tr>\n",
       "      <th>52</th>\n",
       "      <td>2018-12-14</td>\n",
       "      <td>https://www.instagram.com/p/Bqwphk8l9sv/</td>\n",
       "      <td>jorgeofficial.ro</td>\n",
       "    </tr>\n",
       "    <tr>\n",
       "      <th>53</th>\n",
       "      <td>2018-12-14</td>\n",
       "      <td>https://www.instagram.com/p/BqvFAtXFINU/</td>\n",
       "      <td>jorgeofficial.ro</td>\n",
       "    </tr>\n",
       "    <tr>\n",
       "      <th>54</th>\n",
       "      <td>2018-12-14</td>\n",
       "      <td>https://www.instagram.com/p/Bqu7_sslTHe/</td>\n",
       "      <td>jorgeofficial.ro</td>\n",
       "    </tr>\n",
       "    <tr>\n",
       "      <th>55</th>\n",
       "      <td>2018-12-14</td>\n",
       "      <td>https://www.instagram.com/p/Bqt15ZnF-WT/</td>\n",
       "      <td>jorgeofficial.ro</td>\n",
       "    </tr>\n",
       "    <tr>\n",
       "      <th>56</th>\n",
       "      <td>2018-12-14</td>\n",
       "      <td>https://www.instagram.com/p/BqremHkltYY/</td>\n",
       "      <td>jorgeofficial.ro</td>\n",
       "    </tr>\n",
       "    <tr>\n",
       "      <th>57</th>\n",
       "      <td>2018-12-14</td>\n",
       "      <td>https://www.instagram.com/p/Bqp2lUXFSGP/</td>\n",
       "      <td>jorgeofficial.ro</td>\n",
       "    </tr>\n",
       "    <tr>\n",
       "      <th>58</th>\n",
       "      <td>2018-12-14</td>\n",
       "      <td>https://www.instagram.com/p/BqowcGtFhhv/</td>\n",
       "      <td>jorgeofficial.ro</td>\n",
       "    </tr>\n",
       "    <tr>\n",
       "      <th>59</th>\n",
       "      <td>2018-12-14</td>\n",
       "      <td>https://www.instagram.com/p/BqnLEhrFwte/</td>\n",
       "      <td>jorgeofficial.ro</td>\n",
       "    </tr>\n",
       "  </tbody>\n",
       "</table>\n",
       "</div>"
      ],
      "text/plain": [
       "          date                                  post_url          username\n",
       "0   2018-12-14  https://www.instagram.com/p/BrXNfM0FgFK/  jorgeofficial.ro\n",
       "1   2018-12-14  https://www.instagram.com/p/BrU5JZmFlZ5/  jorgeofficial.ro\n",
       "2   2018-12-14  https://www.instagram.com/p/BrUmeluln8L/  jorgeofficial.ro\n",
       "3   2018-12-14  https://www.instagram.com/p/BrSqtuGF3ah/  jorgeofficial.ro\n",
       "4   2018-12-14  https://www.instagram.com/p/BrSbBLVFLtk/  jorgeofficial.ro\n",
       "5   2018-12-14  https://www.instagram.com/p/BrR-NEJF3ej/  jorgeofficial.ro\n",
       "6   2018-12-14  https://www.instagram.com/p/BrQPRRYlhSL/  jorgeofficial.ro\n",
       "7   2018-12-14  https://www.instagram.com/p/BrPOyLrFYUG/  jorgeofficial.ro\n",
       "8   2018-12-14  https://www.instagram.com/p/BrNpcGolH0D/  jorgeofficial.ro\n",
       "9   2018-12-14  https://www.instagram.com/p/BrMzf4OFHw7/  jorgeofficial.ro\n",
       "10  2018-12-14  https://www.instagram.com/p/BrKXk9iF5my/  jorgeofficial.ro\n",
       "11  2018-12-14  https://www.instagram.com/p/BrIX_zTFcC2/  jorgeofficial.ro\n",
       "12  2018-12-14  https://www.instagram.com/p/BrHwj4eFCtW/  jorgeofficial.ro\n",
       "13  2018-12-14  https://www.instagram.com/p/BrGCd_8F0wB/  jorgeofficial.ro\n",
       "14  2018-12-14  https://www.instagram.com/p/BrDhFAmFjl0/  jorgeofficial.ro\n",
       "15  2018-12-14  https://www.instagram.com/p/BrCfDQWFjRD/  jorgeofficial.ro\n",
       "16  2018-12-14  https://www.instagram.com/p/BrAsakmlNlw/  jorgeofficial.ro\n",
       "17  2018-12-14  https://www.instagram.com/p/Bq-tTjZF30q/  jorgeofficial.ro\n",
       "18  2018-12-14  https://www.instagram.com/p/Bq-XIRTlNzY/  jorgeofficial.ro\n",
       "19  2018-12-14  https://www.instagram.com/p/Bq9cDoeljcZ/  jorgeofficial.ro\n",
       "20  2018-12-14  https://www.instagram.com/p/Bq71XGuFWkz/  jorgeofficial.ro\n",
       "21  2018-12-14  https://www.instagram.com/p/Bq7PkKZlleL/  jorgeofficial.ro\n",
       "22  2018-12-14  https://www.instagram.com/p/Bq4khiil7Dj/  jorgeofficial.ro\n",
       "23  2018-12-14  https://www.instagram.com/p/Bq209ENFcqb/  jorgeofficial.ro\n",
       "48  2018-12-14  https://www.instagram.com/p/Bq1r4JhFiAc/  jorgeofficial.ro\n",
       "49  2018-12-14  https://www.instagram.com/p/Bq0L-YPjUK2/  jorgeofficial.ro\n",
       "50  2018-12-14  https://www.instagram.com/p/BqzIapelm3J/  jorgeofficial.ro\n",
       "51  2018-12-14  https://www.instagram.com/p/Bqxe8RhFrJA/  jorgeofficial.ro\n",
       "52  2018-12-14  https://www.instagram.com/p/Bqwphk8l9sv/  jorgeofficial.ro\n",
       "53  2018-12-14  https://www.instagram.com/p/BqvFAtXFINU/  jorgeofficial.ro\n",
       "54  2018-12-14  https://www.instagram.com/p/Bqu7_sslTHe/  jorgeofficial.ro\n",
       "55  2018-12-14  https://www.instagram.com/p/Bqt15ZnF-WT/  jorgeofficial.ro\n",
       "56  2018-12-14  https://www.instagram.com/p/BqremHkltYY/  jorgeofficial.ro\n",
       "57  2018-12-14  https://www.instagram.com/p/Bqp2lUXFSGP/  jorgeofficial.ro\n",
       "58  2018-12-14  https://www.instagram.com/p/BqowcGtFhhv/  jorgeofficial.ro\n",
       "59  2018-12-14  https://www.instagram.com/p/BqnLEhrFwte/  jorgeofficial.ro"
      ]
     },
     "metadata": {},
     "output_type": "display_data"
    }
   ],
   "source": [
    "s = InstagramScraper()\n",
    "if s.do_login():\n",
    "    s.scrape_accounts(['jorgeofficial.ro'], do_posts = True) # 'deepikapiku', 'streetmagazines'"
   ]
  },
  {
   "cell_type": "code",
   "execution_count": 4,
   "metadata": {},
   "outputs": [],
   "source": [
    "posts = [{'username': 'jorgeofficial.ro', 'post_url': 'https://www.instagram.com/p/BrU5JZmFlZ5/'}, {'username': 'jorgeofficial.ro', 'post_url': 'https://www.instagram.com/p/BrUmeluln8L/'}]"
   ]
  },
  {
   "cell_type": "code",
   "execution_count": 5,
   "metadata": {},
   "outputs": [
    {
     "data": {
      "text/html": [
       "<div>\n",
       "<style scoped>\n",
       "    .dataframe tbody tr th:only-of-type {\n",
       "        vertical-align: middle;\n",
       "    }\n",
       "\n",
       "    .dataframe tbody tr th {\n",
       "        vertical-align: top;\n",
       "    }\n",
       "\n",
       "    .dataframe thead th {\n",
       "        text-align: right;\n",
       "    }\n",
       "</style>\n",
       "<table border=\"1\" class=\"dataframe\">\n",
       "  <thead>\n",
       "    <tr style=\"text-align: right;\">\n",
       "      <th></th>\n",
       "      <th>auto_generated_desc</th>\n",
       "      <th>caption</th>\n",
       "      <th>comments</th>\n",
       "      <th>date</th>\n",
       "      <th>is_video</th>\n",
       "      <th>likes</th>\n",
       "      <th>location</th>\n",
       "      <th>post_url</th>\n",
       "      <th>username</th>\n",
       "    </tr>\n",
       "  </thead>\n",
       "  <tbody>\n",
       "    <tr>\n",
       "      <th>0</th>\n",
       "      <td>Image may contain: 2 people, people sitting an...</td>\n",
       "      <td>Nu te speria! Asa arata poza de la Vlogul nou ...</td>\n",
       "      <td>14</td>\n",
       "      <td>2018-12-14</td>\n",
       "      <td>0</td>\n",
       "      <td>2083</td>\n",
       "      <td>Bucharest, Romania</td>\n",
       "      <td>https://www.instagram.com/p/BrU5JZmFlZ5/</td>\n",
       "      <td>jorgeofficial.ro</td>\n",
       "    </tr>\n",
       "    <tr>\n",
       "      <th>1</th>\n",
       "      <td>Image may contain: 1 person, standing</td>\n",
       "      <td>Luna cadourilor....cred ca cea mai frumoasa lu...</td>\n",
       "      <td>16</td>\n",
       "      <td>2018-12-14</td>\n",
       "      <td>0</td>\n",
       "      <td>1383</td>\n",
       "      <td>Bucharest, Romania</td>\n",
       "      <td>https://www.instagram.com/p/BrUmeluln8L/</td>\n",
       "      <td>jorgeofficial.ro</td>\n",
       "    </tr>\n",
       "  </tbody>\n",
       "</table>\n",
       "</div>"
      ],
      "text/plain": [
       "                                 auto_generated_desc  \\\n",
       "0  Image may contain: 2 people, people sitting an...   \n",
       "1              Image may contain: 1 person, standing   \n",
       "\n",
       "                                             caption  comments        date  \\\n",
       "0  Nu te speria! Asa arata poza de la Vlogul nou ...        14  2018-12-14   \n",
       "1  Luna cadourilor....cred ca cea mai frumoasa lu...        16  2018-12-14   \n",
       "\n",
       "   is_video  likes            location  \\\n",
       "0         0   2083  Bucharest, Romania   \n",
       "1         0   1383  Bucharest, Romania   \n",
       "\n",
       "                                   post_url          username  \n",
       "0  https://www.instagram.com/p/BrU5JZmFlZ5/  jorgeofficial.ro  \n",
       "1  https://www.instagram.com/p/BrUmeluln8L/  jorgeofficial.ro  "
      ]
     },
     "metadata": {},
     "output_type": "display_data"
    }
   ],
   "source": [
    "s.get_post_metadata(posts)"
   ]
  },
  {
   "cell_type": "code",
   "execution_count": null,
   "metadata": {},
   "outputs": [],
   "source": [
    "# TODO:\n",
    "# 1. Read handlers list from a text file\n",
    "# 2. Command-line runnable with arguments\n",
    "# 3. Include post metadata function into the main scrape block\n",
    "# 4. Comments scraper\n",
    "# 5. Topic models\n",
    "# 6. Sentiment analysis\n",
    "# 7. Segmentation (somehow lol)"
   ]
  },
  {
   "cell_type": "code",
   "execution_count": null,
   "metadata": {},
   "outputs": [],
   "source": [
    "\n",
    "\n",
    "\n",
    "\n",
    "\n",
    "\n",
    "\n",
    "\n",
    "\n",
    "\n",
    "\n",
    "\n",
    "\n",
    "\n",
    "\n",
    "\n",
    "\n",
    "\n",
    "\n",
    "\n",
    "\n",
    "\n",
    "\n",
    "\n",
    "\n",
    "\n",
    "\n",
    "\n",
    "\n",
    "\n",
    "\n",
    "\n",
    "\n",
    "\n",
    "\n",
    "\n",
    "\n",
    "\n",
    "\n",
    "\n",
    "\n"
   ]
  },
  {
   "cell_type": "code",
   "execution_count": 171,
   "metadata": {},
   "outputs": [
    {
     "data": {
      "text/plain": [
       "'Page Not Found • Instagram'"
      ]
     },
     "execution_count": 171,
     "metadata": {},
     "output_type": "execute_result"
    }
   ],
   "source": [
    "driver = webdriver.Chrome()\n",
    "driver.get(\"https://www.instagram.com/qweazxfrq/\")\n",
    "#driver.get(\"https://www.instagram.com/p/BQuARCSgV4e/\")\n",
    "driver.title"
   ]
  },
  {
   "cell_type": "code",
   "execution_count": 173,
   "metadata": {},
   "outputs": [
    {
     "data": {
      "text/plain": [
       "'coool'"
      ]
     },
     "execution_count": 173,
     "metadata": {},
     "output_type": "execute_result"
    }
   ],
   "source": [
    "'fuck' if 'dialog-404' in driver.page_source else 'coool'"
   ]
  },
  {
   "cell_type": "code",
   "execution_count": 52,
   "metadata": {},
   "outputs": [],
   "source": [
    "driver.find_element_by_tag_name('body').send_keys(Keys.END)"
   ]
  },
  {
   "cell_type": "code",
   "execution_count": 23,
   "metadata": {},
   "outputs": [],
   "source": [
    "x = driver.find_elements_by_xpath(\"//a[starts-with(@href,'/p/')]\")"
   ]
  },
  {
   "cell_type": "code",
   "execution_count": null,
   "metadata": {},
   "outputs": [],
   "source": [
    "# placeholder for random executions"
   ]
  },
  {
   "cell_type": "code",
   "execution_count": 25,
   "metadata": {},
   "outputs": [
    {
     "data": {
      "text/plain": [
       "'https://www.instagram.com/p/BrSNYA0BVQv/'"
      ]
     },
     "execution_count": 25,
     "metadata": {},
     "output_type": "execute_result"
    }
   ],
   "source": [
    "x[0].get_attribute('href')"
   ]
  },
  {
   "cell_type": "code",
   "execution_count": 50,
   "metadata": {},
   "outputs": [],
   "source": [
    "soup = BeautifulSoup(driver.page_source)"
   ]
  },
  {
   "cell_type": "code",
   "execution_count": 51,
   "metadata": {},
   "outputs": [],
   "source": [
    "json_main = soup.find('script', string = re.compile(\"^window.\") ).string.replace('window._sharedData = ', '')[:-1]"
   ]
  },
  {
   "cell_type": "code",
   "execution_count": 52,
   "metadata": {},
   "outputs": [],
   "source": [
    "parsed = json.loads(json_main)\n",
    "# print(json.dumps(parsed, indent=4, sort_keys=True))\n",
    "\n",
    "#metadata = data['entry_data']['ProfilePage'][0]['graphql']\n",
    "\n",
    "# data['entry_data']['ProfilePage'][0]['graphql']['user']['edge_owner_to_timeline_media']['edges']"
   ]
  },
  {
   "cell_type": "code",
   "execution_count": 19,
   "metadata": {},
   "outputs": [
    {
     "data": {
      "text/plain": [
       "'STREET MAGAZINE'"
      ]
     },
     "execution_count": 19,
     "metadata": {},
     "output_type": "execute_result"
    }
   ],
   "source": [
    "# parsed['entry_data']['ProfilePage'][0]['graphql']['user']\n",
    "\n",
    "# parsed['entry_data']['ProfilePage'][0]['graphql']['user']['biography']\n",
    "# parsed['entry_data']['ProfilePage'][0]['graphql']['user']['business_category_name']\n",
    "# parsed['entry_data']['ProfilePage'][0]['graphql']['user']['business_email']\n",
    "# parsed['entry_data']['ProfilePage'][0]['graphql']['user']['edge_follow']['count']\n",
    "# parsed['entry_data']['ProfilePage'][0]['graphql']['user']['edge_followed_by']['count']\n",
    "# parsed['entry_data']['ProfilePage'][0]['graphql']['user']['edge_owner_to_timeline_media']['count']\n",
    "\n",
    "parsed['entry_data']['ProfilePage'][0]['graphql']['user']['full_name']"
   ]
  },
  {
   "cell_type": "code",
   "execution_count": 89,
   "metadata": {},
   "outputs": [],
   "source": [
    "driver.find_element_by_partial_link_text(\"follower\").click()"
   ]
  },
  {
   "cell_type": "code",
   "execution_count": 55,
   "metadata": {},
   "outputs": [
    {
     "data": {
      "text/plain": [
       "{'x': 404, 'y': 496}"
      ]
     },
     "execution_count": 55,
     "metadata": {},
     "output_type": "execute_result"
    }
   ],
   "source": [
    "inf_load = driver.find_element_by_xpath(\"//*[contains(text(), 'Suggestions For You')]\")\n",
    "inf_load.location_once_scrolled_into_view"
   ]
  },
  {
   "cell_type": "code",
   "execution_count": 90,
   "metadata": {},
   "outputs": [
    {
     "data": {
      "text/plain": [
       "{'x': 375, 'y': 624}"
      ]
     },
     "execution_count": 90,
     "metadata": {},
     "output_type": "execute_result"
    }
   ],
   "source": [
    "last_element = driver.find_elements_by_xpath(\"//div[@role='button']\")[-1]\n",
    "last_element.location_once_scrolled_into_view"
   ]
  },
  {
   "cell_type": "code",
   "execution_count": 91,
   "metadata": {},
   "outputs": [],
   "source": [
    "modal = driver.find_element_by_xpath(\"//div[@role='dialog']\")\n",
    "links = modal.find_elements_by_tag_name('a')"
   ]
  },
  {
   "cell_type": "code",
   "execution_count": 135,
   "metadata": {},
   "outputs": [],
   "source": [
    "a = ['q', '2', '3']\n",
    "b = ['m', 'n']\n",
    "a += b"
   ]
  },
  {
   "cell_type": "code",
   "execution_count": 136,
   "metadata": {},
   "outputs": [
    {
     "data": {
      "text/plain": [
       "['q', '2', '3', 'm', 'n']"
      ]
     },
     "execution_count": 136,
     "metadata": {},
     "output_type": "execute_result"
    }
   ],
   "source": [
    "a"
   ]
  },
  {
   "cell_type": "code",
   "execution_count": 140,
   "metadata": {},
   "outputs": [],
   "source": [
    "c = {'username':'x',\n",
    " 'followers': a}"
   ]
  },
  {
   "cell_type": "code",
   "execution_count": 141,
   "metadata": {},
   "outputs": [
    {
     "data": {
      "text/plain": [
       "{'username': 'x', 'followers': ['q', '2', '3', 'm', 'n']}"
      ]
     },
     "execution_count": 141,
     "metadata": {},
     "output_type": "execute_result"
    }
   ],
   "source": [
    "c"
   ]
  },
  {
   "cell_type": "code",
   "execution_count": 142,
   "metadata": {},
   "outputs": [
    {
     "data": {
      "text/html": [
       "<div>\n",
       "<style scoped>\n",
       "    .dataframe tbody tr th:only-of-type {\n",
       "        vertical-align: middle;\n",
       "    }\n",
       "\n",
       "    .dataframe tbody tr th {\n",
       "        vertical-align: top;\n",
       "    }\n",
       "\n",
       "    .dataframe thead th {\n",
       "        text-align: right;\n",
       "    }\n",
       "</style>\n",
       "<table border=\"1\" class=\"dataframe\">\n",
       "  <thead>\n",
       "    <tr style=\"text-align: right;\">\n",
       "      <th></th>\n",
       "      <th>username</th>\n",
       "      <th>followers</th>\n",
       "    </tr>\n",
       "  </thead>\n",
       "  <tbody>\n",
       "    <tr>\n",
       "      <th>0</th>\n",
       "      <td>x</td>\n",
       "      <td>q</td>\n",
       "    </tr>\n",
       "    <tr>\n",
       "      <th>1</th>\n",
       "      <td>x</td>\n",
       "      <td>2</td>\n",
       "    </tr>\n",
       "    <tr>\n",
       "      <th>2</th>\n",
       "      <td>x</td>\n",
       "      <td>3</td>\n",
       "    </tr>\n",
       "    <tr>\n",
       "      <th>3</th>\n",
       "      <td>x</td>\n",
       "      <td>m</td>\n",
       "    </tr>\n",
       "    <tr>\n",
       "      <th>4</th>\n",
       "      <td>x</td>\n",
       "      <td>n</td>\n",
       "    </tr>\n",
       "  </tbody>\n",
       "</table>\n",
       "</div>"
      ],
      "text/plain": [
       "  username followers\n",
       "0        x         q\n",
       "1        x         2\n",
       "2        x         3\n",
       "3        x         m\n",
       "4        x         n"
      ]
     },
     "execution_count": 142,
     "metadata": {},
     "output_type": "execute_result"
    }
   ],
   "source": [
    "pd.DataFrame(c)"
   ]
  },
  {
   "cell_type": "code",
   "execution_count": 92,
   "metadata": {},
   "outputs": [],
   "source": [
    "x = [{'date': '2018-12-13', 'username': 'deepikapiku', 'full_name': '#DeepVeerWale 💏❤💑', 'is_private': 0, 'is_business_account': 0, 'external_url': None, 'biography': 'Deepika Padukone Is Perfect.JUST PERFECT❤ Met Deepika On 11th August, 2017💃🏻 Liked By Shahid on 11th Sept 2017💕 @deepikapadukone ❤', 'business_category_name': None, 'business_email': None, 'following': 548, 'followers': 502863, 'posts': 5362}]"
   ]
  },
  {
   "cell_type": "code",
   "execution_count": 93,
   "metadata": {},
   "outputs": [
    {
     "data": {
      "text/plain": [
       "[{'date': '2018-12-13',\n",
       "  'username': 'deepikapiku',\n",
       "  'full_name': '#DeepVeerWale 💏❤💑',\n",
       "  'is_private': 0,\n",
       "  'is_business_account': 0,\n",
       "  'external_url': None,\n",
       "  'biography': 'Deepika Padukone Is Perfect.JUST PERFECT❤ Met Deepika On 11th August, 2017💃🏻 Liked By Shahid on 11th Sept 2017💕 @deepikapadukone ❤',\n",
       "  'business_category_name': None,\n",
       "  'business_email': None,\n",
       "  'following': 548,\n",
       "  'followers': 502863,\n",
       "  'posts': 5362}]"
      ]
     },
     "execution_count": 93,
     "metadata": {},
     "output_type": "execute_result"
    }
   ],
   "source": [
    "x"
   ]
  },
  {
   "cell_type": "code",
   "execution_count": 94,
   "metadata": {},
   "outputs": [],
   "source": [
    "q = x[0]['biography']"
   ]
  },
  {
   "cell_type": "code",
   "execution_count": 130,
   "metadata": {},
   "outputs": [
    {
     "data": {
      "text/plain": [
       "'Deepika Padukone Is Perfect.JUST PERFECT Met Deepika On 11th August, 2017 Liked By Shahid on 11th Sept 2017 @deepikapadukone '"
      ]
     },
     "execution_count": 130,
     "metadata": {},
     "output_type": "execute_result"
    }
   ],
   "source": [
    "q.encode('latin-1', 'ignore').decode('utf-8')"
   ]
  },
  {
   "cell_type": "code",
   "execution_count": 97,
   "metadata": {},
   "outputs": [
    {
     "data": {
      "text/plain": [
       "'Deepika Padukone Is Perfect.JUST PERFECT❤ Met Deepika On 11th August, 2017 Liked By Shahid on 11th Sept 2017 @deepikapadukone ❤'"
      ]
     },
     "execution_count": 97,
     "metadata": {},
     "output_type": "execute_result"
    }
   ],
   "source": [
    "non_bmp_re = re.compile(u\"[^\\U00000000-\\U0000d7ff\\U0000e000-\\U0000ffff]\", flags=re.UNICODE)\n",
    "non_bmp_re.sub(u'', q)"
   ]
  },
  {
   "cell_type": "code",
   "execution_count": 124,
   "metadata": {},
   "outputs": [],
   "source": [
    "pd.DataFrame(x).to_csv('x.csv', index=False)"
   ]
  },
  {
   "cell_type": "code",
   "execution_count": 114,
   "metadata": {},
   "outputs": [],
   "source": [
    "xx = [{'date': '2018-12-13', 'username': 'hamza.isah.7777', 'full_name': 'Hamza don', 'is_private': 0, 'is_business_account': 0, 'external_url': None, 'biography': '', 'business_category_name': None, 'business_email': None, 'following': 1007, 'followers': 440, 'posts': 58}]"
   ]
  },
  {
   "cell_type": "code",
   "execution_count": 115,
   "metadata": {},
   "outputs": [
    {
     "data": {
      "text/html": [
       "<div>\n",
       "<style scoped>\n",
       "    .dataframe tbody tr th:only-of-type {\n",
       "        vertical-align: middle;\n",
       "    }\n",
       "\n",
       "    .dataframe tbody tr th {\n",
       "        vertical-align: top;\n",
       "    }\n",
       "\n",
       "    .dataframe thead th {\n",
       "        text-align: right;\n",
       "    }\n",
       "</style>\n",
       "<table border=\"1\" class=\"dataframe\">\n",
       "  <thead>\n",
       "    <tr style=\"text-align: right;\">\n",
       "      <th></th>\n",
       "      <th>biography</th>\n",
       "      <th>business_category_name</th>\n",
       "      <th>business_email</th>\n",
       "      <th>date</th>\n",
       "      <th>external_url</th>\n",
       "      <th>followers</th>\n",
       "      <th>following</th>\n",
       "      <th>full_name</th>\n",
       "      <th>is_business_account</th>\n",
       "      <th>is_private</th>\n",
       "      <th>posts</th>\n",
       "      <th>username</th>\n",
       "    </tr>\n",
       "  </thead>\n",
       "  <tbody>\n",
       "    <tr>\n",
       "      <th>0</th>\n",
       "      <td></td>\n",
       "      <td>None</td>\n",
       "      <td>None</td>\n",
       "      <td>2018-12-13</td>\n",
       "      <td>None</td>\n",
       "      <td>440</td>\n",
       "      <td>1007</td>\n",
       "      <td>Hamza don</td>\n",
       "      <td>0</td>\n",
       "      <td>0</td>\n",
       "      <td>58</td>\n",
       "      <td>hamza.isah.7777</td>\n",
       "    </tr>\n",
       "  </tbody>\n",
       "</table>\n",
       "</div>"
      ],
      "text/plain": [
       "  biography business_category_name business_email        date external_url  \\\n",
       "0                             None           None  2018-12-13         None   \n",
       "\n",
       "   followers  following  full_name  is_business_account  is_private  posts  \\\n",
       "0        440       1007  Hamza don                    0           0     58   \n",
       "\n",
       "          username  \n",
       "0  hamza.isah.7777  "
      ]
     },
     "execution_count": 115,
     "metadata": {},
     "output_type": "execute_result"
    }
   ],
   "source": [
    "pd.DataFrame(xx)"
   ]
  },
  {
   "cell_type": "code",
   "execution_count": 125,
   "metadata": {},
   "outputs": [],
   "source": [
    "xr = pd.read_csv('x.csv')"
   ]
  },
  {
   "cell_type": "code",
   "execution_count": 126,
   "metadata": {},
   "outputs": [
    {
     "data": {
      "text/html": [
       "<div>\n",
       "<style scoped>\n",
       "    .dataframe tbody tr th:only-of-type {\n",
       "        vertical-align: middle;\n",
       "    }\n",
       "\n",
       "    .dataframe tbody tr th {\n",
       "        vertical-align: top;\n",
       "    }\n",
       "\n",
       "    .dataframe thead th {\n",
       "        text-align: right;\n",
       "    }\n",
       "</style>\n",
       "<table border=\"1\" class=\"dataframe\">\n",
       "  <thead>\n",
       "    <tr style=\"text-align: right;\">\n",
       "      <th></th>\n",
       "      <th>biography</th>\n",
       "      <th>business_category_name</th>\n",
       "      <th>business_email</th>\n",
       "      <th>date</th>\n",
       "      <th>external_url</th>\n",
       "      <th>followers</th>\n",
       "      <th>following</th>\n",
       "      <th>full_name</th>\n",
       "      <th>is_business_account</th>\n",
       "      <th>is_private</th>\n",
       "      <th>posts</th>\n",
       "      <th>username</th>\n",
       "    </tr>\n",
       "  </thead>\n",
       "  <tbody>\n",
       "    <tr>\n",
       "      <th>0</th>\n",
       "      <td>Deepika Padukone Is Perfect.JUST PERFECT❤ Met ...</td>\n",
       "      <td>NaN</td>\n",
       "      <td>NaN</td>\n",
       "      <td>2018-12-13</td>\n",
       "      <td>NaN</td>\n",
       "      <td>502863</td>\n",
       "      <td>548</td>\n",
       "      <td>#DeepVeerWale 💏❤💑</td>\n",
       "      <td>0</td>\n",
       "      <td>0</td>\n",
       "      <td>5362</td>\n",
       "      <td>deepikapiku</td>\n",
       "    </tr>\n",
       "  </tbody>\n",
       "</table>\n",
       "</div>"
      ],
      "text/plain": [
       "                                           biography  business_category_name  \\\n",
       "0  Deepika Padukone Is Perfect.JUST PERFECT❤ Met ...                     NaN   \n",
       "\n",
       "   business_email        date  external_url  followers  following  \\\n",
       "0             NaN  2018-12-13           NaN     502863        548   \n",
       "\n",
       "           full_name  is_business_account  is_private  posts     username  \n",
       "0  #DeepVeerWale 💏❤💑                    0           0   5362  deepikapiku  "
      ]
     },
     "execution_count": 126,
     "metadata": {},
     "output_type": "execute_result"
    }
   ],
   "source": [
    "xr"
   ]
  },
  {
   "cell_type": "code",
   "execution_count": null,
   "metadata": {},
   "outputs": [],
   "source": []
  }
 ],
 "metadata": {
  "kernelspec": {
   "display_name": "Py 3.7 (scrape)",
   "language": "python",
   "name": "scrape"
  },
  "language_info": {
   "codemirror_mode": {
    "name": "ipython",
    "version": 3
   },
   "file_extension": ".py",
   "mimetype": "text/x-python",
   "name": "python",
   "nbconvert_exporter": "python",
   "pygments_lexer": "ipython3",
   "version": "3.7.0"
  }
 },
 "nbformat": 4,
 "nbformat_minor": 2
}
